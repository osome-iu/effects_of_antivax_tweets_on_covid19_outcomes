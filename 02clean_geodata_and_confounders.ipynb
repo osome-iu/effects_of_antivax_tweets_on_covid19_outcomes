{
 "cells": [
  {
   "cell_type": "code",
   "execution_count": 1,
   "metadata": {},
   "outputs": [],
   "source": [
    "import pickle\n",
    "import pandas as pd\n",
    "import json\n",
    "import os"
   ]
  },
  {
   "cell_type": "markdown",
   "metadata": {},
   "source": [
    "# compile user geodata"
   ]
  },
  {
   "cell_type": "code",
   "execution_count": 2,
   "metadata": {},
   "outputs": [],
   "source": [
    "path = '/data_volume/live/intermediate_files/data-processing/accounts_data/'"
   ]
  },
  {
   "cell_type": "code",
   "execution_count": 3,
   "metadata": {},
   "outputs": [],
   "source": [
    "accounts_by_county = pickle.load(open(path+'us_counties_accounts.pkl','rb'))\n",
    "fips = pd.read_csv('/data_volume/home/vaccine_hesitancy_paper/quick_output/data/misc/fip_code_lookup.csv')\n",
    "state_fips = fips[fips['geo_level']=='State'].drop(columns = ['geo_level','fips_code','county_code_fips']).rename(columns = {'area_name':'state'})\n",
    "county_fips = fips.drop(columns = ['geo_level','county_code_fips']).rename(columns = {'area_name':'county'})\n",
    "county_fips['fips_code'] = county_fips['fips_code'].astype('Int64')\n"
   ]
  },
  {
   "cell_type": "code",
   "execution_count": 4,
   "metadata": {},
   "outputs": [],
   "source": [
    "#get df from dict\n",
    "geo = list()\n",
    "for location in accounts_by_county.keys():\n",
    "    for user in accounts_by_county[location]:\n",
    "        geo.append((user,location))\n",
    "geo = pd.DataFrame(geo, columns = ['user_id','location'])\n",
    "\n",
    "#get clean county and state columns\n",
    "geo['location'] = geo['location'].apply(lambda x: x.strip(' []').replace(\"'\",\"\").replace(\", \",\",\").split(','))\n",
    "geo['state'] = geo['location'].apply(lambda x: x[1])\n",
    "geo['county'] = geo['location'].apply(lambda x: x[0].strip('\"'))\n",
    "\n",
    "#get FIPS code\n",
    "geo = geo.merge(right=state_fips, on='state',how='inner')\n",
    "geo = geo.merge(right=county_fips, on=['state_code_fips','county'], how='inner')\n",
    "\n",
    "#clean up\n",
    "geo = geo.drop(columns = ['state_code_fips','location']\n",
    "              ).rename(columns = {'fips_code':'FIPS'}\n",
    "              ).drop_duplicates('user_id'\n",
    "              ).dropna(\n",
    "              ).reset_index(drop=True)\n",
    "geo['FIPS'] = geo['FIPS'].astype('int64')"
   ]
  },
  {
   "cell_type": "code",
   "execution_count": 5,
   "metadata": {},
   "outputs": [
    {
     "data": {
      "text/html": [
       "<div>\n",
       "<style scoped>\n",
       "    .dataframe tbody tr th:only-of-type {\n",
       "        vertical-align: middle;\n",
       "    }\n",
       "\n",
       "    .dataframe tbody tr th {\n",
       "        vertical-align: top;\n",
       "    }\n",
       "\n",
       "    .dataframe thead th {\n",
       "        text-align: right;\n",
       "    }\n",
       "</style>\n",
       "<table border=\"1\" class=\"dataframe\">\n",
       "  <thead>\n",
       "    <tr style=\"text-align: right;\">\n",
       "      <th></th>\n",
       "      <th>user_id</th>\n",
       "      <th>state</th>\n",
       "      <th>county</th>\n",
       "      <th>FIPS</th>\n",
       "    </tr>\n",
       "  </thead>\n",
       "  <tbody>\n",
       "    <tr>\n",
       "      <th>0</th>\n",
       "      <td>816100811407233024</td>\n",
       "      <td>Ohio</td>\n",
       "      <td>Hamilton County</td>\n",
       "      <td>39061</td>\n",
       "    </tr>\n",
       "    <tr>\n",
       "      <th>1</th>\n",
       "      <td>484708822</td>\n",
       "      <td>Ohio</td>\n",
       "      <td>Hamilton County</td>\n",
       "      <td>39061</td>\n",
       "    </tr>\n",
       "    <tr>\n",
       "      <th>2</th>\n",
       "      <td>1333135267646091269</td>\n",
       "      <td>Ohio</td>\n",
       "      <td>Hamilton County</td>\n",
       "      <td>39061</td>\n",
       "    </tr>\n",
       "    <tr>\n",
       "      <th>3</th>\n",
       "      <td>1071089369921044480</td>\n",
       "      <td>Ohio</td>\n",
       "      <td>Hamilton County</td>\n",
       "      <td>39061</td>\n",
       "    </tr>\n",
       "    <tr>\n",
       "      <th>4</th>\n",
       "      <td>3004620045</td>\n",
       "      <td>Ohio</td>\n",
       "      <td>Hamilton County</td>\n",
       "      <td>39061</td>\n",
       "    </tr>\n",
       "    <tr>\n",
       "      <th>...</th>\n",
       "      <td>...</td>\n",
       "      <td>...</td>\n",
       "      <td>...</td>\n",
       "      <td>...</td>\n",
       "    </tr>\n",
       "    <tr>\n",
       "      <th>2399904</th>\n",
       "      <td>1520223043842420738</td>\n",
       "      <td>Wyoming</td>\n",
       "      <td>Campbell County</td>\n",
       "      <td>56005</td>\n",
       "    </tr>\n",
       "    <tr>\n",
       "      <th>2399905</th>\n",
       "      <td>263449923</td>\n",
       "      <td>Wyoming</td>\n",
       "      <td>Campbell County</td>\n",
       "      <td>56005</td>\n",
       "    </tr>\n",
       "    <tr>\n",
       "      <th>2399906</th>\n",
       "      <td>783215322</td>\n",
       "      <td>Wyoming</td>\n",
       "      <td>Campbell County</td>\n",
       "      <td>56005</td>\n",
       "    </tr>\n",
       "    <tr>\n",
       "      <th>2399907</th>\n",
       "      <td>240937722</td>\n",
       "      <td>Wyoming</td>\n",
       "      <td>Campbell County</td>\n",
       "      <td>56005</td>\n",
       "    </tr>\n",
       "    <tr>\n",
       "      <th>2399908</th>\n",
       "      <td>865852223603036160</td>\n",
       "      <td>Wyoming</td>\n",
       "      <td>Campbell County</td>\n",
       "      <td>56005</td>\n",
       "    </tr>\n",
       "  </tbody>\n",
       "</table>\n",
       "<p>2399909 rows × 4 columns</p>\n",
       "</div>"
      ],
      "text/plain": [
       "                     user_id    state           county   FIPS\n",
       "0         816100811407233024     Ohio  Hamilton County  39061\n",
       "1                  484708822     Ohio  Hamilton County  39061\n",
       "2        1333135267646091269     Ohio  Hamilton County  39061\n",
       "3        1071089369921044480     Ohio  Hamilton County  39061\n",
       "4                 3004620045     Ohio  Hamilton County  39061\n",
       "...                      ...      ...              ...    ...\n",
       "2399904  1520223043842420738  Wyoming  Campbell County  56005\n",
       "2399905            263449923  Wyoming  Campbell County  56005\n",
       "2399906            783215322  Wyoming  Campbell County  56005\n",
       "2399907            240937722  Wyoming  Campbell County  56005\n",
       "2399908   865852223603036160  Wyoming  Campbell County  56005\n",
       "\n",
       "[2399909 rows x 4 columns]"
      ]
     },
     "execution_count": 5,
     "metadata": {},
     "output_type": "execute_result"
    }
   ],
   "source": [
    "geo"
   ]
  },
  {
   "cell_type": "code",
   "execution_count": 6,
   "metadata": {},
   "outputs": [],
   "source": [
    "geo.to_parquet('/data_volume/pub/antivax/raw_geo_and_vax_data/users_geodata.parquet')"
   ]
  },
  {
   "cell_type": "markdown",
   "metadata": {},
   "source": [
    "# compile all geotagged tweets"
   ]
  },
  {
   "cell_type": "code",
   "execution_count": 7,
   "metadata": {},
   "outputs": [],
   "source": [
    "geo = pd.read_parquet('/data_volume/pub/antivax/raw_geo_and_vax_data/users_geodata.parquet')"
   ]
  },
  {
   "cell_type": "code",
   "execution_count": 8,
   "metadata": {},
   "outputs": [],
   "source": [
    "geotagged_users = geo['user_id']"
   ]
  },
  {
   "cell_type": "code",
   "execution_count": 9,
   "metadata": {},
   "outputs": [],
   "source": [
    "path = '/data_volume/pub/antivax/raw_tweets_parquets/'\n",
    "files = os.listdir(path)\n",
    "files = [file for file in os.listdir(path) if '.parquet' in file]\n",
    "files.sort()"
   ]
  },
  {
   "cell_type": "code",
   "execution_count": 10,
   "metadata": {},
   "outputs": [
    {
     "name": "stdout",
     "output_type": "stream",
     "text": [
      "CPU times: user 4min 14s, sys: 1min 45s, total: 5min 59s\n",
      "Wall time: 5min 11s\n"
     ]
    }
   ],
   "source": [
    "%%time\n",
    "\n",
    "dfs = list()\n",
    "n_total = 0\n",
    "n_geolocated = 0\n",
    "for file in files:\n",
    "    df = pd.read_parquet(path+file)\n",
    "    n_total += len(df)\n",
    "    df = df[df['user_id'].isin(geotagged_users)]\n",
    "    n_geolocated += len(df)\n",
    "    dfs.append(df)\n",
    "    \n",
    "df = pd.concat(dfs)\n",
    "del dfs"
   ]
  },
  {
   "cell_type": "code",
   "execution_count": 11,
   "metadata": {},
   "outputs": [
    {
     "name": "stdout",
     "output_type": "stream",
     "text": [
      "total tweets: 229543946 \n",
      "geolocated tweets: 25926048 \n",
      "frac geolocated: 0.11294590187100818\n"
     ]
    }
   ],
   "source": [
    "print('total tweets:',n_total,'\\ngeolocated tweets:', n_geolocated, '\\nfrac geolocated:',n_geolocated/n_total)"
   ]
  },
  {
   "cell_type": "code",
   "execution_count": 12,
   "metadata": {},
   "outputs": [],
   "source": [
    "df = df.merge(right=geo[['user_id','FIPS']], on='user_id',how='inner')"
   ]
  },
  {
   "cell_type": "code",
   "execution_count": 13,
   "metadata": {},
   "outputs": [
    {
     "data": {
      "text/html": [
       "<div>\n",
       "<style scoped>\n",
       "    .dataframe tbody tr th:only-of-type {\n",
       "        vertical-align: middle;\n",
       "    }\n",
       "\n",
       "    .dataframe tbody tr th {\n",
       "        vertical-align: top;\n",
       "    }\n",
       "\n",
       "    .dataframe thead th {\n",
       "        text-align: right;\n",
       "    }\n",
       "</style>\n",
       "<table border=\"1\" class=\"dataframe\">\n",
       "  <thead>\n",
       "    <tr style=\"text-align: right;\">\n",
       "      <th></th>\n",
       "      <th>tweet_id</th>\n",
       "      <th>text</th>\n",
       "      <th>tweet_time</th>\n",
       "      <th>user_id</th>\n",
       "      <th>lang</th>\n",
       "      <th>retweeted_tweet_id</th>\n",
       "      <th>FIPS</th>\n",
       "    </tr>\n",
       "  </thead>\n",
       "  <tbody>\n",
       "    <tr>\n",
       "      <th>0</th>\n",
       "      <td>1356029474035421189</td>\n",
       "      <td>Just another reason why these high carb foods ...</td>\n",
       "      <td>2021-01-31 23:59:55</td>\n",
       "      <td>411821925</td>\n",
       "      <td>en</td>\n",
       "      <td>1355897942184439810</td>\n",
       "      <td>28033</td>\n",
       "    </tr>\n",
       "  </tbody>\n",
       "</table>\n",
       "</div>"
      ],
      "text/plain": [
       "              tweet_id                                               text  \\\n",
       "0  1356029474035421189  Just another reason why these high carb foods ...   \n",
       "\n",
       "           tweet_time    user_id lang   retweeted_tweet_id   FIPS  \n",
       "0 2021-01-31 23:59:55  411821925   en  1355897942184439810  28033  "
      ]
     },
     "execution_count": 13,
     "metadata": {},
     "output_type": "execute_result"
    }
   ],
   "source": [
    "df.head(1)"
   ]
  },
  {
   "cell_type": "code",
   "execution_count": 14,
   "metadata": {},
   "outputs": [],
   "source": [
    "df.to_parquet('/data_volume/pub/antivax/all_geotagged_tweets.parquet')"
   ]
  },
  {
   "cell_type": "markdown",
   "metadata": {},
   "source": [
    "# clean vax and population data\n"
   ]
  },
  {
   "cell_type": "code",
   "execution_count": 15,
   "metadata": {},
   "outputs": [],
   "source": [
    "import pandas as pd\n",
    "import numpy as np"
   ]
  },
  {
   "cell_type": "code",
   "execution_count": 16,
   "metadata": {},
   "outputs": [],
   "source": [
    "#load vax data\n",
    "path = '/data_volume/pub/antivax/'\n",
    "vax = pd.read_csv(path+'/raw_geo_and_vax_data/COVID-19_Vaccinations_in_the_United_States_County.csv', \n",
    "                  low_memory=False)\n",
    "vax = vax[['Date','FIPS','Series_Complete_Pop_Pct','Series_Complete_Yes'] #select columns\n",
    "         ].rename(columns={'Series_Complete_Pop_Pct':'fraction_vaccinated', \n",
    "                           'Series_Complete_Yes': 'n_vaccinated',\n",
    "                           'Date':'date'} #rename\n",
    "                 ).sort_values(['FIPS','date']) #sort\n",
    "vax['fraction_vaccinated'] = vax['fraction_vaccinated'] / 100 #convert percent to fraction\n",
    "vax = vax[vax['FIPS']!='UNK'] #drop unknown fips\n",
    "vax['FIPS'] = vax['FIPS'].astype('int') #convert to int\n",
    "vax['state'] = (vax['FIPS']/1000).astype(int) #get state FIPS\n",
    "\n",
    "#drop Texas. no valid data present, only zeros. \n",
    "vax = vax[vax['state']!=48]\n",
    "\n",
    "#get state FIPS\n",
    "vax['date'] = pd.to_datetime(vax['date'], format = '%m/%d/%Y')"
   ]
  },
  {
   "cell_type": "code",
   "execution_count": 17,
   "metadata": {},
   "outputs": [],
   "source": [
    "vax.to_parquet(path+'vaccination_stats.parquet')"
   ]
  },
  {
   "cell_type": "code",
   "execution_count": 18,
   "metadata": {},
   "outputs": [
    {
     "data": {
      "text/html": [
       "<div>\n",
       "<style scoped>\n",
       "    .dataframe tbody tr th:only-of-type {\n",
       "        vertical-align: middle;\n",
       "    }\n",
       "\n",
       "    .dataframe tbody tr th {\n",
       "        vertical-align: top;\n",
       "    }\n",
       "\n",
       "    .dataframe thead th {\n",
       "        text-align: right;\n",
       "    }\n",
       "</style>\n",
       "<table border=\"1\" class=\"dataframe\">\n",
       "  <thead>\n",
       "    <tr style=\"text-align: right;\">\n",
       "      <th></th>\n",
       "      <th>FIPS</th>\n",
       "      <th>population</th>\n",
       "    </tr>\n",
       "  </thead>\n",
       "  <tbody>\n",
       "    <tr>\n",
       "      <th>0</th>\n",
       "      <td>1000</td>\n",
       "      <td>4921532</td>\n",
       "    </tr>\n",
       "    <tr>\n",
       "      <th>1</th>\n",
       "      <td>1001</td>\n",
       "      <td>56145</td>\n",
       "    </tr>\n",
       "    <tr>\n",
       "      <th>2</th>\n",
       "      <td>1003</td>\n",
       "      <td>229287</td>\n",
       "    </tr>\n",
       "    <tr>\n",
       "      <th>3</th>\n",
       "      <td>1005</td>\n",
       "      <td>24589</td>\n",
       "    </tr>\n",
       "    <tr>\n",
       "      <th>4</th>\n",
       "      <td>1007</td>\n",
       "      <td>22136</td>\n",
       "    </tr>\n",
       "  </tbody>\n",
       "</table>\n",
       "</div>"
      ],
      "text/plain": [
       "   FIPS  population\n",
       "0  1000     4921532\n",
       "1  1001       56145\n",
       "2  1003      229287\n",
       "3  1005       24589\n",
       "4  1007       22136"
      ]
     },
     "execution_count": 18,
     "metadata": {},
     "output_type": "execute_result"
    }
   ],
   "source": [
    "#get county populations\n",
    "pop = pd.read_csv(path+'/raw_geo_and_vax_data/county_populations_2020.csv', dtype='str')\n",
    "pop = pop[['STATE','COUNTY','POPESTIMATE2020']].rename(columns = {'POPESTIMATE2020':'population'})\n",
    "pop['FIPS'] = (pop['STATE']+pop['COUNTY']).astype(int)\n",
    "pop['population'] = pop['population'].astype(int)\n",
    "pop = pop[['FIPS','population']]\n",
    "pop = pop.append(pd.DataFrame([(2261,9243), (2270,8250)],columns=['FIPS','population'])) #manually append some AK populations, which are missing for some reason\n",
    "pop = pop.sort_values('FIPS').reset_index(drop=True)\n",
    "pop.head()"
   ]
  },
  {
   "cell_type": "code",
   "execution_count": 19,
   "metadata": {},
   "outputs": [],
   "source": [
    "pop.to_parquet(path+'FIPS_populations.parquet')"
   ]
  },
  {
   "cell_type": "markdown",
   "metadata": {},
   "source": [
    "# confounders"
   ]
  },
  {
   "cell_type": "code",
   "execution_count": 20,
   "metadata": {},
   "outputs": [],
   "source": [
    "import pandas as pd"
   ]
  },
  {
   "cell_type": "code",
   "execution_count": 21,
   "metadata": {},
   "outputs": [],
   "source": [
    "poppath = '/data_volume/pub/antivax/'\n",
    "confounders_path = '/data_volume/home/vaccine_hesitancy_paper/quick_output/intermediate_files/socio-econ/county_level/'\n"
   ]
  },
  {
   "cell_type": "code",
   "execution_count": 22,
   "metadata": {},
   "outputs": [],
   "source": [
    "pop = pd.read_parquet(poppath+'FIPS_populations.parquet')[['FIPS','population']]"
   ]
  },
  {
   "cell_type": "code",
   "execution_count": 23,
   "metadata": {},
   "outputs": [],
   "source": [
    "election = pd.read_csv(confounders_path+'county_2020_elections.csv')[['county_fips','per_dem','per_gop']]\n",
    "pop = pop.merge(election, left_on='FIPS',right_on='county_fips', how='left').drop(columns=['county_fips'])"
   ]
  },
  {
   "cell_type": "code",
   "execution_count": 24,
   "metadata": {},
   "outputs": [],
   "source": [
    "rural_urban = pd.read_csv(confounders_path+'ruralurbancodes2013.csv', delimiter=';')[['FIPS','RUCC_2013']]\n",
    "pop = pop.merge(rural_urban, on='FIPS', how='left')"
   ]
  },
  {
   "cell_type": "code",
   "execution_count": 25,
   "metadata": {},
   "outputs": [],
   "source": [
    "cols = ['WhiteNonHispanicPct2010','BlackNonHispanicPct2010',\n",
    "        'AsianNonHispanicPct2010','HispanicPct2010',\n",
    "        'Under18Pct2010','Age65AndOlderPct2010',\n",
    "        'Ed5CollegePlusPct','PopDensity2010']\n",
    "demographics = pd.read_csv(confounders_path+'People.csv')[cols+['FIPS']]\n",
    "pop = pop.merge(demographics, on='FIPS', how='left')"
   ]
  },
  {
   "cell_type": "code",
   "execution_count": 26,
   "metadata": {},
   "outputs": [],
   "source": [
    "income = pd.read_csv(confounders_path+'Income.csv')[['FIPS','MedHHInc']]\n",
    "pop = pop.merge(income, on='FIPS', how='left')"
   ]
  },
  {
   "cell_type": "code",
   "execution_count": 27,
   "metadata": {},
   "outputs": [],
   "source": [
    "gini = pd.read_csv(confounders_path+'Gini.csv').drop(0).rename(columns = {'B19083_001E':'gini_est'})\n",
    "gini['FIPS'] = gini['GEO_ID'].apply(lambda x: x[-5:]).astype(int)\n",
    "gini = gini[['FIPS','gini_est']]\n",
    "gini['gini_est'] = gini['gini_est'].astype(float)\n",
    "pop = pop.merge(gini, on='FIPS', how='left')"
   ]
  },
  {
   "cell_type": "code",
   "execution_count": 28,
   "metadata": {},
   "outputs": [],
   "source": [
    "pop.to_parquet(poppath+'FIPS_populations.parquet')"
   ]
  },
  {
   "cell_type": "code",
   "execution_count": 29,
   "metadata": {},
   "outputs": [
    {
     "name": "stdout",
     "output_type": "stream",
     "text": [
      "<class 'pandas.core.frame.DataFrame'>\n",
      "Int64Index: 3196 entries, 0 to 3195\n",
      "Data columns (total 15 columns):\n",
      " #   Column                   Non-Null Count  Dtype  \n",
      "---  ------                   --------------  -----  \n",
      " 0   FIPS                     3196 non-null   int64  \n",
      " 1   population               3196 non-null   int64  \n",
      " 2   per_dem                  3112 non-null   float64\n",
      " 3   per_gop                  3112 non-null   float64\n",
      " 4   RUCC_2013                3141 non-null   float64\n",
      " 5   WhiteNonHispanicPct2010  3193 non-null   float64\n",
      " 6   BlackNonHispanicPct2010  3193 non-null   float64\n",
      " 7   AsianNonHispanicPct2010  3193 non-null   float64\n",
      " 8   HispanicPct2010          3193 non-null   float64\n",
      " 9   Under18Pct2010           3193 non-null   float64\n",
      " 10  Age65AndOlderPct2010     3193 non-null   float64\n",
      " 11  Ed5CollegePlusPct        3193 non-null   float64\n",
      " 12  PopDensity2010           3193 non-null   float64\n",
      " 13  MedHHInc                 3192 non-null   float64\n",
      " 14  gini_est                 3141 non-null   float64\n",
      "dtypes: float64(13), int64(2)\n",
      "memory usage: 399.5 KB\n"
     ]
    }
   ],
   "source": [
    "pop.info()"
   ]
  },
  {
   "cell_type": "code",
   "execution_count": null,
   "metadata": {},
   "outputs": [],
   "source": []
  }
 ],
 "metadata": {
  "kernelspec": {
   "display_name": "Python 3 (ipykernel)",
   "language": "python",
   "name": "python3"
  },
  "language_info": {
   "codemirror_mode": {
    "name": "ipython",
    "version": 3
   },
   "file_extension": ".py",
   "mimetype": "text/x-python",
   "name": "python",
   "nbconvert_exporter": "python",
   "pygments_lexer": "ipython3",
   "version": "3.10.4"
  }
 },
 "nbformat": 4,
 "nbformat_minor": 4
}
